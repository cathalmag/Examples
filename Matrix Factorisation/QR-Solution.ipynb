{
 "cells": [
  {
   "cell_type": "markdown",
   "metadata": {},
   "source": [
    "# QR Factorisation\n",
    "\n",
    "We will look at two different ways for computing the QR factorisation of a matrix. To goal is to start from a matrix $A$ and write it as the product of an orthogonal matrix $Q$ and an upper-triangular matrix $R$."
   ]
  },
  {
   "cell_type": "code",
   "execution_count": 1,
   "metadata": {},
   "outputs": [],
   "source": [
    "import numpy as np\n",
    "from numpy.linalg import norm\n",
    "\n",
    "A = np.array([[1,2,3],[4,5,6],[7,8,10]])\n",
    "b = np.array([1,2,3])\n",
    "n = 3"
   ]
  },
  {
   "cell_type": "markdown",
   "metadata": {},
   "source": [
    "Numpy has a built-in function for doing this. Let's use it to check what the answer should be:"
   ]
  },
  {
   "cell_type": "code",
   "execution_count": 2,
   "metadata": {},
   "outputs": [
    {
     "data": {
      "text/plain": [
       "(array([[-0.19611614, -0.87794634, -0.43674785],\n",
       "        [-0.        , -0.44539717,  0.8953331 ],\n",
       "        [-0.98058068,  0.17558927,  0.08734957]]),\n",
       " array([[-5.09901951, -5.68736792, -4.70678724],\n",
       "        [ 0.        , -8.98074864, -4.14561978],\n",
       "        [ 0.        ,  0.        ,  1.28840617]]))"
      ]
     },
     "execution_count": 2,
     "metadata": {},
     "output_type": "execute_result"
    }
   ],
   "source": [
    "A=np.array([[1,9,4],[0,4,3],[5,4,4]])\n",
    "(Q,R) = np.linalg.qr(A)\n",
    "(Q,R)"
   ]
  },
  {
   "cell_type": "markdown",
   "metadata": {},
   "source": [
    "## Gram-Schmidt orthogonalization\n",
    "\n",
    "The first approach will be to transform the vectors in the columns of $A$ to a set of orthogonal vectores using the Gram-Schmidt approach. The basic idea of Gram-Schmidt is to build up an orthonormal set of vectors by projecting out non-orthogonal pieces. The following image illustrates this.\n",
    "![Gram-Schmidt Visualisation](Gram-Schmidt_orthonormalization_process.gif \"Gram-Schmidt Visualisation\")\n",
    "Let's now implement this with our test matrix $A$."
   ]
  },
  {
   "cell_type": "markdown",
   "metadata": {},
   "source": [
    "First, we construct three vectors $a_1$, $a_2$ and $a_3$ from the columns of $A$."
   ]
  },
  {
   "cell_type": "code",
   "execution_count": 3,
   "metadata": {},
   "outputs": [
    {
     "data": {
      "text/plain": [
       "array([1, 0, 5])"
      ]
     },
     "execution_count": 3,
     "metadata": {},
     "output_type": "execute_result"
    }
   ],
   "source": [
    "(a1, a2, a3) = np.transpose(A)\n",
    "a1\n"
   ]
  },
  {
   "cell_type": "markdown",
   "metadata": {},
   "source": [
    "Now, our first orthonormal vector is just $a_1$ normalised to have length 1:"
   ]
  },
  {
   "cell_type": "code",
   "execution_count": 4,
   "metadata": {},
   "outputs": [],
   "source": [
    "u1 = a1\n",
    "e1 = u1 / norm(u1)"
   ]
  },
  {
   "cell_type": "markdown",
   "metadata": {},
   "source": [
    "To construct our second orthonormal vector, let's start with $a_2$, project out the part along the $a_1$ direction and normalise the result:"
   ]
  },
  {
   "cell_type": "code",
   "execution_count": 5,
   "metadata": {},
   "outputs": [],
   "source": [
    "u2 = a2 - (e1@a2)*e1\n",
    "e2 = u2/norm(u2)"
   ]
  },
  {
   "cell_type": "markdown",
   "metadata": {},
   "source": [
    "Let's also project this piece out from $a_3$ now (this is not essential, but helps improve the numerical stability of the algorithm)"
   ]
  },
  {
   "cell_type": "code",
   "execution_count": 14,
   "metadata": {},
   "outputs": [
    {
     "data": {
      "text/plain": [
       "array([ 3.07692308,  3.        , -0.61538462])"
      ]
     },
     "execution_count": 14,
     "metadata": {},
     "output_type": "execute_result"
    }
   ],
   "source": [
    "u3 = a3 - (e1@a3)*e1\n",
    "u3"
   ]
  },
  {
   "cell_type": "markdown",
   "metadata": {},
   "source": [
    "To construct our third orthonormal vector, let's project out the part along the previous two directions and normalise the result:"
   ]
  },
  {
   "cell_type": "code",
   "execution_count": 15,
   "metadata": {},
   "outputs": [
    {
     "data": {
      "text/plain": [
       "array([-0.56270863,  1.15355269,  0.11254173])"
      ]
     },
     "execution_count": 15,
     "metadata": {},
     "output_type": "execute_result"
    }
   ],
   "source": [
    "u3 = u3 - (e2@a3)*e2\n",
    "e3 = u3 / norm(u3)\n",
    "[e1,e2,e3]\n",
    "u3"
   ]
  },
  {
   "cell_type": "markdown",
   "metadata": {},
   "source": [
    "Now we have our three orthogonal vectors, we can put them into the columns of Q"
   ]
  },
  {
   "cell_type": "code",
   "execution_count": 34,
   "metadata": {},
   "outputs": [
    {
     "data": {
      "text/plain": [
       "array([[ 0.19611614,  0.87794634, -0.43674785],\n",
       "       [ 0.        ,  0.44539717,  0.8953331 ],\n",
       "       [ 0.98058068, -0.17558927,  0.08734957]])"
      ]
     },
     "execution_count": 34,
     "metadata": {},
     "output_type": "execute_result"
    }
   ],
   "source": [
    "Q = np.transpose([e1, e2, e3])\n",
    "Q"
   ]
  },
  {
   "cell_type": "markdown",
   "metadata": {},
   "source": [
    "To get $R$, we note that $A = Q R$ means that $Q^T A = Q^T Q R = R$ since $Q$ is an orthogonal matrix. Let's use this to compute $R$:"
   ]
  },
  {
   "cell_type": "code",
   "execution_count": 16,
   "metadata": {},
   "outputs": [],
   "source": [
    "R = np.transpose(Q)@A"
   ]
  },
  {
   "cell_type": "code",
   "execution_count": 19,
   "metadata": {},
   "outputs": [
    {
     "data": {
      "text/plain": [
       "array([[-0.19611614, -0.        , -0.98058068],\n",
       "       [-0.87794634, -0.44539717,  0.17558927],\n",
       "       [-0.43674785,  0.8953331 ,  0.08734957]])"
      ]
     },
     "execution_count": 19,
     "metadata": {},
     "output_type": "execute_result"
    }
   ],
   "source": [
    "np.transpose(Q)"
   ]
  },
  {
   "cell_type": "code",
   "execution_count": 20,
   "metadata": {},
   "outputs": [
    {
     "data": {
      "text/plain": [
       "array([[ 1.00000000e+00,  9.00000000e+00,  4.00000000e+00],\n",
       "       [-2.20160225e-17,  4.00000000e+00,  3.00000000e+00],\n",
       "       [ 5.00000000e+00,  4.00000000e+00,  4.00000000e+00]])"
      ]
     },
     "execution_count": 20,
     "metadata": {},
     "output_type": "execute_result"
    }
   ],
   "source": [
    "Q@R"
   ]
  },
  {
   "cell_type": "markdown",
   "metadata": {},
   "source": [
    "As expected, $R$ is (almost) an upper-triangular matrix. It is only __almost__ upper triangular because floating point arithmetic is not exact."
   ]
  },
  {
   "cell_type": "markdown",
   "metadata": {},
   "source": [
    "## Using Householder reflections\n",
    "\n",
    "The Gram-Schmidt process can be a very effective way to orthogonalise a set of vectors, but it does run into problems with numerical stability. This can happen, for example, in the case where we are starting with vectors that are nearly linearly dependent. Then we would be subtracting two large vectors to produce one small one, and we know that this is a recipe for disaster with floating point arithmetic.\n",
    "\n",
    "One way around this problem is to use a different approach to orthogonalization. A very popular method uses the idea of Householder reflections. These take a vector $x$ and reflect it about a plane defined by another vector $v$:\n",
    "![Householder reflection](Householder.png \"Householder reflection\")\n",
    "This is clearly equivalent to multiplying $x$ by the __Householder reflection matrix__\n",
    "$$ H = I - 2 \\frac{v v^T}{||v||^2}$$\n",
    "Note that $H$ is a *symmetric, orthogonal matrix*.\n",
    "\n",
    "Now, if we choose $v$ appropriately then we can use it to zero out below the pivot in each column, thus producing $R$. In particular, if\n",
    "$$v = a - ||a|| e_k$$ then $H a = |a| e_k$ so if $e_k$ is a unit vector in the $k$-th direction this does exactly what we want to the column $a$.\n",
    "\n",
    "Let's now implement this in practice."
   ]
  },
  {
   "cell_type": "markdown",
   "metadata": {},
   "source": [
    "First, we work on the first column of $A$."
   ]
  },
  {
   "cell_type": "code",
   "execution_count": 26,
   "metadata": {},
   "outputs": [
    {
     "data": {
      "text/plain": [
       "array([[-0.19611614,  0.        , -0.98058068],\n",
       "       [ 0.        ,  1.        ,  0.        ],\n",
       "       [-0.98058068,  0.        ,  0.19611614]])"
      ]
     },
     "execution_count": 26,
     "metadata": {},
     "output_type": "execute_result"
    }
   ],
   "source": [
    "-np.sign(a3[0])\n",
    "np.outer(v1,v1)\n",
    "H1"
   ]
  },
  {
   "cell_type": "code",
   "execution_count": 21,
   "metadata": {},
   "outputs": [],
   "source": [
    "u1 = a1 - (-np.sign(a1[0]))*norm(a1)*np.array([1,0,0])\n",
    "v1 = u1/norm(u1)\n",
    "H1 = np.identity(3) - 2*np.outer(v1,v1)"
   ]
  },
  {
   "cell_type": "code",
   "execution_count": 35,
   "metadata": {},
   "outputs": [
    {
     "data": {
      "text/plain": [
       "array([[ 0.72269858, -0.44766655],\n",
       "       [-0.44766655,  0.27730142]])"
      ]
     },
     "execution_count": 35,
     "metadata": {},
     "output_type": "execute_result"
    }
   ],
   "source": [
    "A1 = H1@A\n",
    "np.outer(v2,v2)"
   ]
  },
  {
   "cell_type": "markdown",
   "metadata": {},
   "source": [
    "and the second column"
   ]
  },
  {
   "cell_type": "code",
   "execution_count": 29,
   "metadata": {},
   "outputs": [],
   "source": [
    "a2 = A1[1:,1]\n",
    "u2 = a2 - (-np.sign(a2[0]))*norm(a2)*np.array([1,0])\n",
    "v2 = u2/norm(u2)\n",
    "H2 = np.identity(3)\n",
    "H2[1:,1:] -= 2*np.outer(v2,v2)"
   ]
  },
  {
   "cell_type": "code",
   "execution_count": 63,
   "metadata": {},
   "outputs": [
    {
     "data": {
      "text/plain": [
       "array([[ 1.        ,  0.        ,  0.        ],\n",
       "       [ 0.        , -0.44539717,  0.8953331 ],\n",
       "       [ 0.        ,  0.8953331 ,  0.44539717]])"
      ]
     },
     "execution_count": 63,
     "metadata": {},
     "output_type": "execute_result"
    }
   ],
   "source": [
    "H2"
   ]
  },
  {
   "cell_type": "code",
   "execution_count": 40,
   "metadata": {},
   "outputs": [
    {
     "data": {
      "text/plain": [
       "array([2.57681234])"
      ]
     },
     "execution_count": 40,
     "metadata": {},
     "output_type": "execute_result"
    }
   ],
   "source": [
    "A2 = H2@A1\n",
    "A2\n",
    "u3"
   ]
  },
  {
   "cell_type": "markdown",
   "metadata": {},
   "source": [
    "and finally the third column"
   ]
  },
  {
   "cell_type": "code",
   "execution_count": 43,
   "metadata": {},
   "outputs": [],
   "source": [
    "a3 = A2[2:,2]\n",
    "u3 = a3 - (-np.sign(a3[0]))*norm(a3)*np.array([1])\n",
    "v3 = u3/norm(u3)\n",
    "H3 = np.identity(3)\n",
    "H3[2:,2:] -= 2*np.outer(v3,v3)"
   ]
  },
  {
   "cell_type": "code",
   "execution_count": 44,
   "metadata": {},
   "outputs": [
    {
     "data": {
      "text/plain": [
       "array([[ 1.,  0.,  0.],\n",
       "       [ 0.,  1.,  0.],\n",
       "       [ 0.,  0., -1.]])"
      ]
     },
     "execution_count": 44,
     "metadata": {},
     "output_type": "execute_result"
    }
   ],
   "source": [
    "H3"
   ]
  },
  {
   "cell_type": "code",
   "execution_count": 45,
   "metadata": {},
   "outputs": [],
   "source": [
    "A3 = H3@A2"
   ]
  },
  {
   "cell_type": "code",
   "execution_count": 46,
   "metadata": {},
   "outputs": [
    {
     "data": {
      "text/plain": [
       "array([[-5.09901951e+00, -5.68736792e+00, -4.70678724e+00],\n",
       "       [-4.97009712e-16, -8.98074864e+00, -4.14561978e+00],\n",
       "       [ 2.47245095e-16, -8.97768428e-16, -1.28840617e+00]])"
      ]
     },
     "execution_count": 46,
     "metadata": {},
     "output_type": "execute_result"
    }
   ],
   "source": [
    "A3"
   ]
  },
  {
   "cell_type": "markdown",
   "metadata": {},
   "source": [
    "We now have transformed to exactly $R$."
   ]
  },
  {
   "cell_type": "code",
   "execution_count": 61,
   "metadata": {},
   "outputs": [
    {
     "data": {
      "text/plain": [
       "array([[-0.19611614, -0.87794634,  0.43674785],\n",
       "       [ 0.        , -0.44539717, -0.8953331 ],\n",
       "       [-0.98058068,  0.17558927, -0.08734957]])"
      ]
     },
     "execution_count": 61,
     "metadata": {},
     "output_type": "execute_result"
    }
   ],
   "source": [
    "Q"
   ]
  },
  {
   "cell_type": "markdown",
   "metadata": {},
   "source": [
    "And we can easily construct $Q$ from the Householder matrices"
   ]
  },
  {
   "cell_type": "code",
   "execution_count": 60,
   "metadata": {},
   "outputs": [],
   "source": [
    "Q=np.transpose(H3@H2@H1)"
   ]
  },
  {
   "cell_type": "code",
   "execution_count": 52,
   "metadata": {},
   "outputs": [
    {
     "data": {
      "text/plain": [
       "array([[1.00000000e+00, 9.00000000e+00, 4.00000000e+00],\n",
       "       [8.81388716e-32, 4.00000000e+00, 3.00000000e+00],\n",
       "       [5.00000000e+00, 4.00000000e+00, 4.00000000e+00]])"
      ]
     },
     "execution_count": 52,
     "metadata": {},
     "output_type": "execute_result"
    }
   ],
   "source": [
    "Q@R"
   ]
  },
  {
   "cell_type": "code",
   "execution_count": 41,
   "metadata": {},
   "outputs": [
    {
     "data": {
      "text/plain": [
       "array([[ 1.00000000e+00,  9.00000000e+00,  4.00000000e+00],\n",
       "       [-2.20160225e-17,  4.00000000e+00,  3.00000000e+00],\n",
       "       [ 5.00000000e+00,  4.00000000e+00,  4.00000000e+00]])"
      ]
     },
     "execution_count": 41,
     "metadata": {},
     "output_type": "execute_result"
    }
   ],
   "source": [
    "Q@R"
   ]
  }
 ],
 "metadata": {
  "kernelspec": {
   "display_name": "Python 3",
   "language": "python",
   "name": "python3"
  },
  "language_info": {
   "codemirror_mode": {
    "name": "ipython",
    "version": 3
   },
   "file_extension": ".py",
   "mimetype": "text/x-python",
   "name": "python",
   "nbconvert_exporter": "python",
   "pygments_lexer": "ipython3",
   "version": "3.8.3"
  }
 },
 "nbformat": 4,
 "nbformat_minor": 4
}
